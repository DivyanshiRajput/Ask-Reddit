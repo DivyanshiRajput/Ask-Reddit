{
  "nbformat": 4,
  "nbformat_minor": 0,
  "metadata": {
    "colab": {
      "name": "AskReddit-1.ipynb",
      "provenance": [],
      "collapsed_sections": []
    },
    "kernelspec": {
      "display_name": "Python 3",
      "language": "python",
      "name": "python3"
    },
    "language_info": {
      "codemirror_mode": {
        "name": "ipython",
        "version": 3
      },
      "file_extension": ".py",
      "mimetype": "text/x-python",
      "name": "python",
      "nbconvert_exporter": "python",
      "pygments_lexer": "ipython3",
      "version": "3.7.3"
    }
  },
  "cells": [
    {
      "cell_type": "markdown",
      "metadata": {
        "id": "SqcvcxofKLNI"
      },
      "source": [
        "# Ask Reddit\n",
        "\n",
        "### Submitted by: Nikhil Agarwal (IMT2019060) and Divyanshi Rajput (IMT2019029)"
      ]
    },
    {
      "cell_type": "code",
      "metadata": {
        "id": "abKRX_4-KLNL",
        "colab": {
          "base_uri": "https://localhost:8080/"
        },
        "outputId": "23c50412-56b3-44b7-c65d-ba151abf6846"
      },
      "source": [
        "import numpy as np\n",
        "import pandas as pd\n",
        "import seaborn as sns\n",
        "import matplotlib.pyplot as plt\n",
        "import string\n",
        "from google.colab import files\n",
        "from google.colab import drive\n",
        "drive.mount('/content/drive')"
      ],
      "execution_count": null,
      "outputs": [
        {
          "output_type": "stream",
          "name": "stdout",
          "text": [
            "Drive already mounted at /content/drive; to attempt to forcibly remount, call drive.mount(\"/content/drive\", force_remount=True).\n"
          ]
        }
      ]
    },
    {
      "cell_type": "code",
      "metadata": {
        "id": "HeT34qHuKLNN"
      },
      "source": [
        "train = pd.read_csv(\"drive/My Drive/data/train.csv\")\n",
        "test = pd.read_csv(\"drive/My Drive/data/test.csv\")"
      ],
      "execution_count": null,
      "outputs": []
    },
    {
      "cell_type": "code",
      "metadata": {
        "id": "B7D-_NfJKLNP"
      },
      "source": [
        "# code to make dataset smaller\n",
        "train = train.head(int(len(train)*(100/100)))\n",
        "test = test.head(int(len(test)*(100/100)))"
      ],
      "execution_count": null,
      "outputs": []
    },
    {
      "cell_type": "code",
      "metadata": {
        "id": "cQwSVMV7KLNQ"
      },
      "source": [
        "# combine = train + test\n",
        "combine = pd.concat([train, test])\n",
        "combine.drop(columns = [\"target\"], inplace = True)"
      ],
      "execution_count": null,
      "outputs": []
    },
    {
      "cell_type": "markdown",
      "metadata": {
        "id": "EBxMjIyHjbH2"
      },
      "source": [
        "# Exploratory Data Analysis"
      ]
    },
    {
      "cell_type": "code",
      "metadata": {
        "colab": {
          "base_uri": "https://localhost:8080/"
        },
        "id": "mAi8D0aHl2c9",
        "outputId": "d65711c2-8bde-431b-c407-2ad59adb6f27"
      },
      "source": [
        "print(train.isna().sum())\n",
        "print()\n",
        "print(test.isna().sum())"
      ],
      "execution_count": null,
      "outputs": [
        {
          "output_type": "stream",
          "name": "stdout",
          "text": [
            "qid              0\n",
            "question_text    0\n",
            "target           0\n",
            "dtype: int64\n",
            "\n",
            "qid              0\n",
            "question_text    0\n",
            "dtype: int64\n"
          ]
        }
      ]
    },
    {
      "cell_type": "markdown",
      "metadata": {
        "id": "wS3G9-y5jfuq"
      },
      "source": [
        "### Target Class Distribution"
      ]
    },
    {
      "cell_type": "code",
      "metadata": {
        "colab": {
          "base_uri": "https://localhost:8080/",
          "height": 279
        },
        "id": "4UUFJ6VNKLNQ",
        "outputId": "61e82f02-eb98-4cce-e3c0-00d5e3472838"
      },
      "source": [
        "sns.countplot(x = train[\"target\"])\n",
        "plt.show()"
      ],
      "execution_count": null,
      "outputs": [
        {
          "output_type": "display_data",
          "data": {
            "image/png": "[encoded data removed]",
            "text/plain": [
              "<Figure size 432x288 with 1 Axes>"
            ]
          },
          "metadata": {
            "needs_background": "light"
          }
        }
      ]
    },
    {
      "cell_type": "markdown",
      "metadata": {
        "id": "zPALPiYNjlmw"
      },
      "source": [
        "### Number of words in a question vs Frequency\n"
      ]
    },
    {
      "cell_type": "code",
      "metadata": {
        "colab": {
          "base_uri": "https://localhost:8080/",
          "height": 265
        },
        "id": "0yYDFuHNkbKw",
        "outputId": "4c4e1f24-9406-480e-e2ed-3cfdc1346742"
      },
      "source": [
        "plt.hist(x = train['question_text'].apply(lambda x: len(x.split())), range = [0,40], bins=20);"
      ],
      "execution_count": null,
      "outputs": [
        {
          "output_type": "display_data",
          "data": {
            "image/png": "[encoded data removed]",
            "text/plain": [
              "<Figure size 432x288 with 1 Axes>"
            ]
          },
          "metadata": {
            "needs_background": "light"
          }
        }
      ]
    },
    {
      "cell_type": "code",
      "metadata": {
        "colab": {
          "base_uri": "https://localhost:8080/",
          "height": 265
        },
        "id": "jErr3ZjPlBHZ",
        "outputId": "538effa3-3f24-4765-afb1-b0bd18664158"
      },
      "source": [
        "plt.hist(x = test['question_text'].apply(lambda x: len(x.split())), range=[0,40], bins =20);"
      ],
      "execution_count": null,
      "outputs": [
        {
          "output_type": "display_data",
          "data": {
            "image/png": "[encoded data removed]",
            "text/plain": [
              "<Figure size 432x288 with 1 Axes>"
            ]
          },
          "metadata": {
            "needs_background": "light"
          }
        }
      ]
    },
    {
      "cell_type": "code",
      "source": [
        "plt.hist(x = combine['question_text'].apply(lambda x: len([x for x in x.split() if x.isdigit()])), range=[-2, 10], bins=20)"
      ],
      "metadata": {
        "colab": {
          "base_uri": "https://localhost:8080/",
          "height": 415
        },
        "id": "JpDGHTZR-_Jf",
        "outputId": "ac732a7f-4ef0-4a22-9936-a1eaea58ed6c"
      },
      "execution_count": null,
      "outputs": [
        {
          "output_type": "execute_result",
          "data": {
            "text/plain": [
              "(array([0.000000e+00, 0.000000e+00, 0.000000e+00, 1.236526e+06,\n",
              "        0.000000e+00, 5.828100e+04, 9.286000e+03, 0.000000e+00,\n",
              "        1.509000e+03, 0.000000e+00, 3.660000e+02, 1.060000e+02,\n",
              "        0.000000e+00, 2.600000e+01, 0.000000e+00, 1.000000e+01,\n",
              "        3.000000e+00, 0.000000e+00, 3.000000e+00, 3.000000e+00]),\n",
              " array([-2. , -1.4, -0.8, -0.2,  0.4,  1. ,  1.6,  2.2,  2.8,  3.4,  4. ,\n",
              "         4.6,  5.2,  5.8,  6.4,  7. ,  7.6,  8.2,  8.8,  9.4, 10. ]),\n",
              " <a list of 20 Patch objects>)"
            ]
          },
          "metadata": {},
          "execution_count": 37
        },
        {
          "output_type": "display_data",
          "data": {
            "image/png": "[encoded data removed]",
            "text/plain": [
              "<Figure size 432x288 with 1 Axes>"
            ]
          },
          "metadata": {
            "needs_background": "light"
          }
        }
      ]
    },
    {
      "cell_type": "markdown",
      "metadata": {
        "id": "ZmkKH5P9KLNR"
      },
      "source": [
        "## Preprocessing\n",
        "- Remove stop words\n",
        "- Stemming\n",
        "- Remove punctuations\n",
        "- Lowercase \n",
        "- Remove numbers and special characters"
      ]
    },
    {
      "cell_type": "code",
      "metadata": {
        "id": "vGHCh04DKLNR"
      },
      "source": [
        "import nltk\n",
        "from nltk.stem import PorterStemmer, WordNetLemmatizer\n",
        "from nltk.tokenize import sent_tokenize, word_tokenize\n",
        "from nltk.tokenize import RegexpTokenizer\n",
        "nltk.download('punkt')\n",
        "nltk.download('wordnet')\n",
        "\n",
        "from sklearn.feature_extraction.text import ENGLISH_STOP_WORDS\n",
        "stop = list(ENGLISH_STOP_WORDS)"
      ],
      "execution_count": null,
      "outputs": []
    },
    {
      "cell_type": "markdown",
      "metadata": {
        "id": "AWsjG92BnIv5"
      },
      "source": [
        "### Tokenisation\n",
        "Converting sentence into list of words."
      ]
    },
    {
      "cell_type": "code",
      "source": [
        "def reg_token(x):\n",
        "    # x = x.lower()\n",
        "    tokenizer = RegexpTokenizer(r'[a-zA-Z@#$*!]+\\**[a-zA-Z@#$*!]+')\n",
        "    return tokenizer.tokenize(x)"
      ],
      "metadata": {
        "id": "kn1uRN1ItHxd"
      },
      "execution_count": null,
      "outputs": []
    },
    {
      "cell_type": "code",
      "metadata": {
        "id": "lZQl6qxOoz44"
      },
      "source": [
        "combine['question_text'] = combine['question_text'].apply(lambda x: reg_token(x))\n",
        "train['question_text'] = train['question_text'].apply(lambda x: reg_token(x))\n",
        "test['question_text'] = test['question_text'].apply(lambda x: reg_token(x))\n",
        "\n",
        "# using word_tokenize\n",
        "# combine['question_text'] = combine['question_text'].apply(lambda x: word_tokenize(x))\n",
        "# train['question_text'] = train['question_text'].apply(lambda x: word_tokenize(x))\n",
        "# test['question_text'] = test['question_text'].apply(lambda x: word_tokenize(x))\n",
        "\n",
        "print(combine.head())"
      ],
      "execution_count": null,
      "outputs": []
    },
    {
      "cell_type": "markdown",
      "metadata": {
        "id": "pkUs4AvjnXKb"
      },
      "source": [
        "Removing punctuations from the sentence and converting it into lower case."
      ]
    },
    {
      "cell_type": "code",
      "metadata": {
        "id": "kA80SdlrnStb"
      },
      "source": [
        "combine['question_text'] = combine['question_text'].apply(lambda x: [word.lower() for word in x if word not in string.punctuation])\n",
        "train['question_text'] = train['question_text'].apply(lambda x: [word.lower() for word in x if word not in string.punctuation])\n",
        "test['question_text'] = test['question_text'].apply(lambda x: [word.lower() for word in x if word not in string.punctuation])"
      ],
      "execution_count": null,
      "outputs": []
    },
    {
      "cell_type": "markdown",
      "metadata": {
        "id": "vE5IksJKnfxm"
      },
      "source": [
        "### Removing stop words and Stemming/lemmetization\n"
      ]
    },
    {
      "cell_type": "code",
      "metadata": {
        "id": "qQuYaYZ2KLNS"
      },
      "source": [
        "# STEMMING\n",
        "# stemmer = PorterStemmer()\n",
        "\n",
        "# combine[\"question_text\"] = combine[\"question_text\"].apply(lambda x: ' '.join([stemmer.stem(word) for word in x if word not in stop]))\n",
        "# train[\"question_text\"] = train[\"question_text\"].apply(lambda x: ' '.join([stemmer.stem(word) for word in x if word not in stop]))\n",
        "# test[\"question_text\"] = test[\"question_text\"].apply(lambda x: ' '.join([stemmer.stem(word) for word in x if word not in stop]))\n",
        "\n",
        "# LEMMATIZATION\n",
        "wnl = WordNetLemmatizer()\n",
        "\n",
        "combine[\"question_text\"] = combine[\"question_text\"].apply(lambda x: ' '.join([wnl.lemmatize(word) for word in x if word not in stop]))\n",
        "train[\"question_text\"] = train[\"question_text\"].apply(lambda x: ' '.join([wnl.lemmatize(word) for word in x if word not in stop]))\n",
        "test[\"question_text\"] = test[\"question_text\"].apply(lambda x: ' '.join([wnl.lemmatize(word) for word in x if word not in stop]))"
      ],
      "execution_count": null,
      "outputs": []
    },
    {
      "cell_type": "code",
      "metadata": {
        "id": "cf5l4z6XKLNS"
      },
      "source": [
        "# final preprocessed combine dataframe\n",
        "combine"
      ],
      "execution_count": null,
      "outputs": []
    },
    {
      "cell_type": "code",
      "metadata": {
        "id": "U2GYmLkeox2h"
      },
      "source": [
        "# word cloud for words contributing towards troll questions\n",
        "#Importing Libraries\n",
        "from wordcloud import WordCloud\n",
        "\n",
        "#Creating the text variable\n",
        "troll_df = train[train['target'] == 1]\n",
        "text = \" \".join(question for question in troll_df.question_text)\n",
        "\n",
        "# Creating word_cloud with text as argument in .generate() method\n",
        "word_cloud = WordCloud(collocations = False, background_color = 'white').generate(text)\n",
        "\n",
        "# Display the generated Word Cloud\n",
        "plt.imshow(word_cloud, interpolation='bilinear')\n",
        "plt.axis(\"off\")\n",
        "plt.show()"
      ],
      "execution_count": null,
      "outputs": []
    },
    {
      "cell_type": "code",
      "metadata": {
        "id": "xuyXTqdsS5Z4"
      },
      "source": [
        "# code to upload preprocessed files to drive, so as to use it later. \n",
        "combine.to_csv('combine.csv', index = False)\n",
        "train.to_csv('train.csv', index = False)\n",
        "test.to_csv('test.csv', index = False)\n",
        "!cp combine.csv \"drive/My Drive/data/preprocessed\"\n",
        "!cp train.csv \"drive/My Drive/data/preprocessed\"\n",
        "!cp test.csv \"drive/My Drive/data/preprocessed\"\n",
        "\n",
        "# to download files on local system uncomment these lines\n",
        "# files.download('combine.csv')\n",
        "# files.download('train.csv')\n",
        "# files.download('test.csv')"
      ],
      "execution_count": null,
      "outputs": []
    },
    {
      "cell_type": "markdown",
      "metadata": {
        "id": "NM4KNceI2LY3"
      },
      "source": [
        "## loading the preprocessed data"
      ]
    },
    {
      "cell_type": "code",
      "metadata": {
        "id": "41Hhk4cG2Jmq"
      },
      "source": [
        "import numpy as np\n",
        "import pandas as pd\n",
        "import seaborn as sns\n",
        "import matplotlib.pyplot as plt\n",
        "import string\n",
        "import nltk\n",
        "from google.colab import files\n",
        "\n",
        "from google.colab import drive\n",
        "drive.mount('/content/drive')"
      ],
      "execution_count": null,
      "outputs": []
    },
    {
      "cell_type": "code",
      "metadata": {
        "id": "a86MvoQ41zyk"
      },
      "source": [
        "train = pd.read_csv(\"drive/My Drive/data/preprocessed/train.csv\")\n",
        "test = pd.read_csv(\"drive/My Drive/data/preprocessed/test.csv\")\n",
        "combine = pd.read_csv(\"drive/My Drive/data/preprocessed/combine.csv\")"
      ],
      "execution_count": null,
      "outputs": []
    },
    {
      "cell_type": "code",
      "metadata": {
        "id": "qy7RzIGSEHTd"
      },
      "source": [
        "print(combine.isna().sum())\n",
        "print(train.isna().sum())\n",
        "print(test.isna().sum())"
      ],
      "execution_count": null,
      "outputs": []
    },
    {
      "cell_type": "code",
      "metadata": {
        "id": "4-htlrSD5J0V"
      },
      "source": [
        "combine = combine[combine['question_text'].notna()]\n",
        "print(combine.isna().sum())\n",
        "\n",
        "train = train[train['question_text'].notna()]\n",
        "print(train.isna().sum())"
      ],
      "execution_count": null,
      "outputs": []
    },
    {
      "cell_type": "code",
      "metadata": {
        "id": "prIjOQ2jHj3B"
      },
      "source": [
        "# Assuming test data with NaN question_text to be not troll - set target to 0 for those ids\n",
        "test_ids_with_null = test[test['question_text'].isnull()]['qid']\n",
        "test_ids_with_null"
      ],
      "execution_count": null,
      "outputs": []
    },
    {
      "cell_type": "markdown",
      "metadata": {
        "id": "OKaH-n_vnuUo"
      },
      "source": [
        "## Bag of Words Approch"
      ]
    },
    {
      "cell_type": "code",
      "metadata": {
        "id": "LGCShjDaKLNU"
      },
      "source": [
        "corpus_combine = combine[\"question_text\"].to_list()"
      ],
      "execution_count": null,
      "outputs": []
    },
    {
      "cell_type": "markdown",
      "metadata": {
        "id": "Q87FwkvJn1Ju"
      },
      "source": [
        "### Count Vectorizer"
      ]
    },
    {
      "cell_type": "code",
      "metadata": {
        "id": "Y6caEugJH4iU"
      },
      "source": [
        "from sklearn.feature_extraction.text import CountVectorizer\n",
        "from sklearn.feature_extraction.text import TfidfVectorizer\n",
        "from gensim.sklearn_api import W2VTransformer"
      ],
      "execution_count": null,
      "outputs": []
    },
    {
      "cell_type": "code",
      "metadata": {
        "id": "djZaTUO8KLNU"
      },
      "source": [
        "# https://kavita-ganesan.com/how-to-use-countvectorizer/#.YayJCfHP3L9\n",
        "# vectorizer = CountVectorizer(ngram_range = (1, 1), strip_accents = 'ascii' , min_df = 2)\n",
        "# vectorizer = TfidfVectorizer(ngram_range = (1, 2), strip_accents = 'ascii' , min_df = 2)\n",
        "vectorizer = CountVectorizer(ngram_range = (1, 3), min_df = 2)\n",
        "\n",
        "# hyper parameter\n",
        "# mn_df Eliminating words that appeared in less than 2 questions\n",
        "# max_features=10\n",
        "# binary=True\n",
        "\n",
        "vectorizer.fit(corpus_combine)\n",
        "list_of_words = vectorizer.get_feature_names()\n",
        "print(len(list_of_words))"
      ],
      "execution_count": null,
      "outputs": []
    },
    {
      "cell_type": "markdown",
      "source": [
        "# Word Embeddings Approach"
      ],
      "metadata": {
        "id": "j7wt_QvOoASS"
      }
    },
    {
      "cell_type": "code",
      "source": [
        "# # word2vec\n",
        "\n",
        "# from gensim.models import Word2Vec\n",
        "# all_words = [nltk.word_tokenize(sent) for sent in corpus_combine]\n",
        "\n",
        "# model = W2VTransformer(min_count = 2, size = 50)\n",
        "# model.fit(all_words)\n",
        "\n",
        "# corpus_train = train[\"question_text\"].to_list()\n",
        "\n",
        "# all_train_words = [nltk.word_tokenize(sent) for sent in corpus_train]\n",
        "# for i in range(len(all_train_words)):\n",
        "#   all_train_words[i] = [word for word in all_train_words[i] if word in model.gensim_model.wv.vocab ]\n",
        "\n",
        "# X = pd.DataFrame(columns=[str(i) for i in range(100)])\n",
        "\n",
        "# for i in range(len(all_train_words)):\n",
        "#   vec = (np.mean(model.transform(all_train_words[i]), axis = 0))\n",
        "#   if(i%100 == 0):\n",
        "#     print(i)\n",
        "#   X.loc[i] = vec\n",
        "\n",
        "# Y = train['target']"
      ],
      "metadata": {
        "id": "8tMoqRRqNuKB"
      },
      "execution_count": null,
      "outputs": []
    },
    {
      "cell_type": "code",
      "metadata": {
        "id": "pltXVmfALDnd"
      },
      "source": [
        "# code to download list of words in countvectorizer vocabulary\n",
        "# dowload_df = pd.DataFrame(list_of_words, columns=[\"words\"])\n",
        "# dowload_df.to_csv('words.csv')\n",
        "# files.download('words.csv')"
      ],
      "execution_count": null,
      "outputs": []
    },
    {
      "cell_type": "code",
      "metadata": {
        "id": "xyuArqXEtdIM"
      },
      "source": [
        "corpus_train = train[\"question_text\"].to_list()\n",
        "X = vectorizer.transform(corpus_train)"
      ],
      "execution_count": null,
      "outputs": []
    },
    {
      "cell_type": "code",
      "metadata": {
        "id": "NhuaDHDsKLNW"
      },
      "source": [
        "Y = train[\"target\"]"
      ],
      "execution_count": null,
      "outputs": []
    },
    {
      "cell_type": "code",
      "metadata": {
        "id": "XIccUUsk0-YK"
      },
      "source": [
        "print(X.shape)\n",
        "print(Y.shape)"
      ],
      "execution_count": null,
      "outputs": []
    },
    {
      "cell_type": "markdown",
      "metadata": {
        "id": "7zWmallLn9Rn"
      },
      "source": [
        "## Fitting Model"
      ]
    },
    {
      "cell_type": "code",
      "metadata": {
        "id": "NXTekvTsyfqd"
      },
      "source": [
        "from sklearn.model_selection import train_test_split\n",
        "X_train, X_valid, Y_train, Y_valid = train_test_split(X, Y, test_size = 0.4, random_state = 42)"
      ],
      "execution_count": null,
      "outputs": []
    },
    {
      "cell_type": "code",
      "metadata": {
        "id": "LvhizLZNKLNW"
      },
      "source": [
        "from sklearn.naive_bayes import GaussianNB\n",
        "from sklearn.linear_model import LogisticRegression\n",
        "\n",
        "from sklearn.svm import SVC\n",
        "\n",
        "from sklearn.neural_network import MLPClassifier\n",
        "\n",
        "from sklearn.model_selection import GridSearchCV\n",
        "from xgboost import XGBClassifier\n",
        "\n",
        "from sklearn.metrics import f1_score\n",
        "from sklearn.metrics import fbeta_score\n",
        "from sklearn.metrics import classification_report"
      ],
      "execution_count": null,
      "outputs": []
    },
    {
      "cell_type": "code",
      "metadata": {
        "id": "YYggk_EnKlW0"
      },
      "source": [
        "# # Grid CV search\n",
        "# param_grid = {'class_weight' : [{0:1, 1 : 8}, {0: 1, 1: 7}, {0: 1, 1: 8.5}, {0: 1, 1: 7.5}, {0: 1, 1: 6}, {0:1 , 1:5}], 'max_iter' : [1000]}\n",
        "              \n",
        "# grid = GridSearchCV(LogisticRegression(), param_grid, refit = True, scoring='f1_macro', verbose=10) \n",
        "   \n",
        "# # fitting the model for grid search \n",
        "# grid.fit(X_train, Y_train) \n",
        " \n",
        "# # print best parameter after tuning \n",
        "# print(grid.best_params_) \n",
        "# ypred = grid.predict(X_valid) "
      ],
      "execution_count": null,
      "outputs": []
    },
    {
      "cell_type": "code",
      "metadata": {
        "id": "RxAuE4mdKLNW"
      },
      "source": [
        "clf = LogisticRegression(class_weight = {0:1, 1:1.5}, max_iter=1000, solver=\"lbfgs\", penalty=\"l2\").fit(X, Y)\n",
        "ypred = clf.predict(X_valid)"
      ],
      "execution_count": null,
      "outputs": []
    },
    {
      "cell_type": "code",
      "metadata": {
        "id": "6sSv4P6fH2of"
      },
      "source": [
        "pred_proba_df = pd.DataFrame(clf.predict_proba(X_valid))\n",
        "threshold_list = [0.05,0.1,0.15,0.2,0.25,0.3,0.35,0.4,0.45,0.5,0.55,0.6,0.65,0.7,0.75,0.8,0.85,0.9,0.95,.99]\n",
        "\n",
        "for i in threshold_list:\n",
        "    print ('\\n******** For i = {} ******'.format(i))\n",
        "    Y_test_pred_df = pred_proba_df.applymap(lambda x: 1 if x>i else 0)\n",
        "    Y_test_pred = Y_test_pred_df[1]\n",
        "    test_accuracy = fbeta_score(Y_valid, Y_test_pred, average=\"macro\", beta=0.5) \n",
        "    print('Our testing accuracy is {}'.format(test_accuracy))"
      ],
      "execution_count": null,
      "outputs": []
    },
    {
      "cell_type": "code",
      "metadata": {
        "id": "4keonUczX5RJ"
      },
      "source": [
        "# XGB Classifier\n",
        "# param_grid = {'max_depth':8, 'verbosity' : 3, 'learning_rate' : 0.1, 'n_estimators' : 240}\n",
        "# clf = XGBClassifier()\n",
        "# clf.set_params(**param_grid)\n",
        "# clf.fit(X_train, Y_train)\n",
        "# ypred = clf.predict(X_valid)"
      ],
      "execution_count": null,
      "outputs": []
    },
    {
      "cell_type": "code",
      "metadata": {
        "id": "D8jhAhGwUlwE"
      },
      "source": [
        "# # Multi Layer Perceptron\n",
        "# clf = MLPClassifier(random_state=1, max_iter=1).fit(X_train, Y_train)\n",
        "# ypred = clf.predict(X_valid)"
      ],
      "execution_count": null,
      "outputs": []
    },
    {
      "cell_type": "code",
      "metadata": {
        "id": "yR6q7AzdKLNX"
      },
      "source": [
        "from sklearn.metrics import f1_score\n",
        "from sklearn.metrics import fbeta_score, confusion_matrix\n",
        "from sklearn.metrics import classification_report\n",
        "\n",
        "Y_test_pred_df = pred_proba_df.applymap(lambda x: 1 if x>=0.20 else 0)\n",
        "ypred = Y_test_pred_df[1]\n",
        "print(\"fbeta score: \",fbeta_score(Y_valid, ypred, average=\"macro\", beta=0.5),\"\\n\")\n",
        "print(\"f1 score: \",f1_score(Y_valid, ypred),\"\\n\")\n",
        "\n",
        "# print classification report \n",
        "print(classification_report(Y_valid, ypred))\n",
        "\n",
        "\n",
        "# some local validation models score\n",
        "# 0.7781909199140844 - count vectorizer, logistic {1, 2}, min_df = 2\n",
        "# 0.7781568677607948 - ''' min_df = 3\n",
        "# 0.7790251794536773 - ''', min_df = 1\n",
        "# 0.7745545635527731 - tfidf, min_df = 2, logistic {1, 2}\n",
        "# 0.7681182215602274 - count, min_df = 2, XGBoost - depth(10), n = 100, lr = 0.3\n",
        "# 0.7515945562339992 - count(ngram - (1,2)), min_df = 2, XGBoost - depth(10), n = 50, lr = 0.4\n",
        "# 0.7874426698769188 - count(1,2), min_df = 2, Logistic{1,2}\n",
        "# 0.7884138990815169 - count(1,2), min_df = 2, Logistic{1, 1.5}\n",
        "# 0.7774764003469989 - count(1,1), min_df = 2, Logistic{1, 1.5}\n",
        "# 0.777239302540932 - count(1,1), min_df = 3, XGBoost, n = 200, lr = 0.3, depth = 10\n",
        "# 0.7409300587551859 - count(1,1), min_df = 2, XGBoost ( n = 240, lr = 0.1, depth = 9)"
      ],
      "execution_count": null,
      "outputs": []
    },
    {
      "cell_type": "code",
      "source": [
        "confusion_matrix(Y_valid, ypred)"
      ],
      "metadata": {
        "id": "MRwOsWAza5NV"
      },
      "execution_count": null,
      "outputs": []
    },
    {
      "cell_type": "markdown",
      "metadata": {
        "id": "icsUPnbk5RVL"
      },
      "source": [
        "# Prediction and Submission"
      ]
    },
    {
      "cell_type": "code",
      "source": [
        "test.isna().sum()"
      ],
      "metadata": {
        "id": "IrPqvtumZhty"
      },
      "execution_count": null,
      "outputs": []
    },
    {
      "cell_type": "code",
      "metadata": {
        "id": "0Qr-3HwkLojq"
      },
      "source": [
        "test.fillna('', inplace=True)"
      ],
      "execution_count": null,
      "outputs": []
    },
    {
      "cell_type": "code",
      "source": [
        "test"
      ],
      "metadata": {
        "id": "z-WFjLGeG4HS"
      },
      "execution_count": null,
      "outputs": []
    },
    {
      "cell_type": "code",
      "metadata": {
        "id": "9JifIDUd5Q9s"
      },
      "source": [
        "corpus_test = test[\"question_text\"].to_list()\n",
        "X2 = vectorizer.transform(corpus_test)"
      ],
      "execution_count": null,
      "outputs": []
    },
    {
      "cell_type": "code",
      "source": [
        "Y2 = clf.predict_proba(X2)\n",
        "Y2 = pd.DataFrame(Y2)\n",
        "Y2 = Y2.applymap(lambda x: 1 if x>=0.23 else 0)\n",
        "Y2 = Y2[1].to_numpy()"
      ],
      "metadata": {
        "id": "Ns87y2gVsdTt"
      },
      "execution_count": null,
      "outputs": []
    },
    {
      "cell_type": "code",
      "source": [
        "Y2"
      ],
      "metadata": {
        "id": "NEYdJecPG8kR"
      },
      "execution_count": null,
      "outputs": []
    },
    {
      "cell_type": "code",
      "metadata": {
        "id": "yLpBs1kf5zJe"
      },
      "source": [
        "ypred_df = pd.DataFrame(data = Y2, columns=['target'])"
      ],
      "execution_count": null,
      "outputs": []
    },
    {
      "cell_type": "code",
      "metadata": {
        "id": "ImjkIYLy6ZGW"
      },
      "source": [
        "submission_df = pd.concat([test[\"qid\"], ypred_df['target']], axis = 1, join = \"inner\")\n",
        "submission_df"
      ],
      "execution_count": null,
      "outputs": []
    },
    {
      "cell_type": "code",
      "metadata": {
        "id": "SfhfI84PMGvC"
      },
      "source": [
        "# def make_zero(df):\n",
        "#   for i in range(df.shape[0]):\n",
        "#     id = df['qid'][i]\n",
        "#     if id in test_ids_with_null:\n",
        "#       df['target'][i] = 0\n",
        "\n",
        "# make_zero(submission_df)"
      ],
      "execution_count": null,
      "outputs": []
    },
    {
      "cell_type": "code",
      "metadata": {
        "id": "GR5wohRC6rKa"
      },
      "source": [
        "# save submission.csv to drive\n",
        "submission_df.to_csv(\"./submission.csv\", index = False)\n",
        "!cp submission.csv \"drive/My Drive/data/submission\""
      ],
      "execution_count": null,
      "outputs": []
    },
    {
      "cell_type": "code",
      "metadata": {
        "id": "Jr5WKQfIGn79"
      },
      "source": [
        "test['target'] = submission_df['target']"
      ],
      "execution_count": null,
      "outputs": []
    },
    {
      "cell_type": "code",
      "metadata": {
        "id": "GLaAAoi2Gzyq"
      },
      "source": [
        "test"
      ],
      "execution_count": null,
      "outputs": []
    },
    {
      "cell_type": "code",
      "metadata": {
        "id": "He06JE7cG0XK"
      },
      "source": [
        "troll_question_df = test[test['target'] == 1]['question_text']\n",
        "# troll_question_df.to_csv(\"./troll_question_text.csv\", index = False)\n",
        "# !cp troll_question_text.csv \"drive/My Drive/data/submission\""
      ],
      "execution_count": null,
      "outputs": []
    },
    {
      "cell_type": "code",
      "metadata": {
        "id": "Gbx8Uz7wHR1w"
      },
      "source": [
        "# dataframe of troll questions\n",
        "test[test['target'] == 1]"
      ],
      "execution_count": null,
      "outputs": []
    }
  ]
}